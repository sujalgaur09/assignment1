{
 "cells": [
  {
   "cell_type": "code",
   "execution_count": 2,
   "id": "40e08dd2-2a0c-42ca-84da-00bd3ee4859b",
   "metadata": {},
   "outputs": [],
   "source": [
    "            #ASSIGNMENT1"
   ]
  },
  {
   "cell_type": "code",
   "execution_count": 29,
   "id": "8491ddfa-de61-4473-ad91-d6209f581f38",
   "metadata": {},
   "outputs": [
    {
     "name": "stdout",
     "output_type": "stream",
     "text": [
      "phyton programming language was created by GUIDO VAN ROSSUM and first released om 20 february ,1991 \n"
     ]
    }
   ],
   "source": [
    "ANSWER1 = print(\"phyton programming language was created by GUIDO VAN ROSSUM and first released om 20 february ,1991 \")"
   ]
  },
  {
   "cell_type": "code",
   "execution_count": 30,
   "id": "12175f15-b102-41f3-90f3-c57eb678099f",
   "metadata": {},
   "outputs": [
    {
     "name": "stdout",
     "output_type": "stream",
     "text": [
      "phyton is interpreted programming language supports object oriented programming ,structured programming and functional programming\n"
     ]
    }
   ],
   "source": [
    "ANSWER2 = print(\"phyton is interpreted programming language supports object oriented programming ,structured programming and functional programming\")"
   ]
  },
  {
   "cell_type": "code",
   "execution_count": 31,
   "id": "e343b5fc-3d5c-4cef-b8ce-12de4be8356c",
   "metadata": {},
   "outputs": [
    {
     "name": "stdout",
     "output_type": "stream",
     "text": [
      "yes phyton is case sensitive \n"
     ]
    }
   ],
   "source": [
    "ANSWER3 = print(\"yes phyton is case sensitive \")"
   ]
  },
  {
   "cell_type": "code",
   "execution_count": 32,
   "id": "68bacddb-5578-481c-8bde-bbcc955afb66",
   "metadata": {},
   "outputs": [
    {
     "name": "stdout",
     "output_type": "stream",
     "text": [
      ".py is the correct extension\n"
     ]
    }
   ],
   "source": [
    "ANSWER4 = print(\".py is the correct extension\")"
   ]
  },
  {
   "cell_type": "code",
   "execution_count": 33,
   "id": "236420bc-e39a-4c7f-92a6-a17f9cb3fca4",
   "metadata": {},
   "outputs": [
    {
     "name": "stdout",
     "output_type": "stream",
     "text": [
      "phyton code is interprated\n"
     ]
    }
   ],
   "source": [
    "ANSWER5 = print(\"phyton code is interprated\")"
   ]
  },
  {
   "cell_type": "code",
   "execution_count": 34,
   "id": "1d1eb919-e936-4c14-89cc-d302a15011ad",
   "metadata": {},
   "outputs": [
    {
     "name": "stdout",
     "output_type": "stream",
     "text": [
      "name of some code blocks are module, function body ,class defination\n"
     ]
    }
   ],
   "source": [
    "ANSWER6= print(\"name of some code blocks are module, function body ,class defination\")"
   ]
  },
  {
   "cell_type": "code",
   "execution_count": 35,
   "id": "bb9f4bae-5a1d-4974-87f0-ad7577439233",
   "metadata": {},
   "outputs": [
    {
     "name": "stdout",
     "output_type": "stream",
     "text": [
      "character use to give single line comment is #\n"
     ]
    }
   ],
   "source": [
    "ANSWER7 =print(\"character use to give single line comment is #\")"
   ]
  },
  {
   "cell_type": "code",
   "execution_count": 36,
   "id": "c0d31b2b-d668-44a0-92c0-0ca7e42dd255",
   "metadata": {},
   "outputs": [
    {
     "name": "stdout",
     "output_type": "stream",
     "text": [
      "sys , sys.version , sys,version_info\n"
     ]
    }
   ],
   "source": [
    "ANSWER8 =print(\"sys , sys.version , sys,version_info\")"
   ]
  },
  {
   "cell_type": "code",
   "execution_count": 37,
   "id": "4670fe14-acd8-4781-9b27-06b94f60bb1b",
   "metadata": {},
   "outputs": [
    {
     "name": "stdout",
     "output_type": "stream",
     "text": [
      "anonymous function are made by using lambda \n"
     ]
    }
   ],
   "source": [
    "ANSWER9 =print(\"anonymous function are made by using lambda \")"
   ]
  },
  {
   "cell_type": "code",
   "execution_count": 38,
   "id": "c22df657-2a82-44e3-bdf4-6a0ed01d7d26",
   "metadata": {},
   "outputs": [
    {
     "name": "stdout",
     "output_type": "stream",
     "text": [
      "PIP = preferred installer program\n"
     ]
    }
   ],
   "source": [
    "ANSWER10=print(\"PIP = preferred installer program\")"
   ]
  },
  {
   "cell_type": "code",
   "execution_count": 39,
   "id": "e92232eb-6b0c-43e0-8338-68a2c6e90750",
   "metadata": {},
   "outputs": [
    {
     "name": "stdout",
     "output_type": "stream",
     "text": [
      "built in funtion = print() ,type() ,float() , input() ,int() ,str() ,len() ,tuple()\n"
     ]
    }
   ],
   "source": [
    "ANSWER11 = print(\"built in funtion = print() ,type() ,float() , input() ,int() ,str() ,len() ,tuple()\")"
   ]
  },
  {
   "cell_type": "code",
   "execution_count": 40,
   "id": "ae19fd83-00d7-4418-8683-237ad42d1c0f",
   "metadata": {},
   "outputs": [
    {
     "name": "stdout",
     "output_type": "stream",
     "text": [
      "maximum possible length of identifier is 79\n"
     ]
    }
   ],
   "source": [
    "ANSWER12 = print(\"maximum possible length of identifier is 79\")"
   ]
  },
  {
   "cell_type": "code",
   "execution_count": 41,
   "id": "7172f910-840c-4d61-8559-24cbaf9d9f40",
   "metadata": {},
   "outputs": [
    {
     "name": "stdout",
     "output_type": "stream",
     "text": [
      "BENEFITS OF USING PHYTONsimple to use,free and open source ,productivity has been increased ,extensive library,dynamically type\n"
     ]
    }
   ],
   "source": [
    "ANSWER13 =print(\"BENEFITS OF USING PHYTON\"\n",
    "\"simple to use,free and open source ,productivity has been increased ,extensive library,dynamically type\")"
   ]
  },
  {
   "cell_type": "code",
   "execution_count": 25,
   "id": "d0aa3ba8-7ab7-47c0-a9a8-8c939f202123",
   "metadata": {},
   "outputs": [
    {
     "name": "stdout",
     "output_type": "stream",
     "text": [
      "Python memory management documentation, Python has a private heap that stores our program’s objects and data structures.There are two types of memory allocation in Python, static and dynamic.\"\n",
      "1. Static memory) The stack data structure provides static memory allocation, meaning the variables are in the stack memory. Statically assigned variables, as the name implies, are permanent; this means that they must be allocated in advance and persist for the duration of the program. Another point to remember is that we cannot reuse the memory allocated in the stack memory. Therefore, memory reusability is not possible.\"\n",
      "2. Dynamic memory)The dynamic memory allocation uses heap data structures in its implementation, implying that variables are in the heap memory. As the name suggests, dynamically allocated variables are not permanent and can be changed while a program is running. Additionally, allotted memory can be relinquished and reused. However, it takes longer to complete because dynamic memory allocation occurs during program execution. Furthermore, after utilizing the allocated memory, we must release it. Otherwise, problems such as memory leaks might arise.\n"
     ]
    }
   ],
   "source": [
    "ANSWER14 =print(\"\"\"Python memory management documentation, Python has a private heap that stores our program’s objects and data structures.There are two types of memory allocation in Python, static and dynamic.\"\n",
    "1. Static memory) The stack data structure provides static memory allocation, meaning the variables are in the stack memory. Statically assigned variables, as the name implies, are permanent; this means that they must be allocated in advance and persist for the duration of the program. Another point to remember is that we cannot reuse the memory allocated in the stack memory. Therefore, memory reusability is not possible.\"\n",
    "2. Dynamic memory)The dynamic memory allocation uses heap data structures in its implementation, implying that variables are in the heap memory. As the name suggests, dynamically allocated variables are not permanent and can be changed while a program is running. Additionally, allotted memory can be relinquished and reused. However, it takes longer to complete because dynamic memory allocation occurs during program execution. Furthermore, after utilizing the allocated memory, we must release it. Otherwise, problems such as memory leaks might arise.\"\"\")\n"
   ]
  },
  {
   "cell_type": "code",
   "execution_count": 27,
   "id": "f2fb18c7-b3d9-403a-97c9-cc415b390dbb",
   "metadata": {},
   "outputs": [
    {
     "name": "stdout",
     "output_type": "stream",
     "text": [
      "1.Open a browser to the Python website and download the Windows installer.\"\n",
      "               2. Double click on the downloaded file and install Python for all users, and ensure that Python is added to your path. Click on Install now to begin.\n",
      "               3.After the installation is complete, click Disable path length limit and then Close.\n",
      "               4. Click Close to end the installation.\n",
      "               path setting\n",
      "               1. Right click on My Computer and click on properties.\n",
      "               2. Click on Advanced System settings\n",
      "               3. Click on Environment Variable tab.\n",
      "               4. Click on new tab of user variables.\n",
      "               5. Write path in variable name\n",
      "               6. Copy the path of Python folder\n",
      "               7. Paste path of Python in variable value.\n",
      "               8. Click on Ok button:\n"
     ]
    }
   ],
   "source": [
    "ANSWER15=print(\"\"\"1.Open a browser to the Python website and download the Windows installer.\"\n",
    "               2. Double click on the downloaded file and install Python for all users, and ensure that Python is added to your path. Click on Install now to begin.\n",
    "               3.After the installation is complete, click Disable path length limit and then Close.\n",
    "               4. Click Close to end the installation.\n",
    "               path setting\n",
    "               1. Right click on My Computer and click on properties.\n",
    "               2. Click on Advanced System settings\n",
    "               3. Click on Environment Variable tab.\n",
    "               4. Click on new tab of user variables.\n",
    "               5. Write path in variable name\n",
    "               6. Copy the path of Python folder\n",
    "               7. Paste path of Python in variable value.\n",
    "               8. Click on Ok button:\"\"\")"
   ]
  },
  {
   "cell_type": "code",
   "execution_count": 42,
   "id": "70d548ed-62de-4e5d-8b0d-ed97080cc8e6",
   "metadata": {},
   "outputs": [
    {
     "name": "stdout",
     "output_type": "stream",
     "text": [
      "yes , identation is required in python\n"
     ]
    }
   ],
   "source": [
    "ANSWER16 =print(\"yes , identation is required in python\")"
   ]
  },
  {
   "cell_type": "code",
   "execution_count": null,
   "id": "b195adbe-cf02-487d-8595-d85803bc2ca2",
   "metadata": {},
   "outputs": [],
   "source": []
  }
 ],
 "metadata": {
  "kernelspec": {
   "display_name": "Python 3 (ipykernel)",
   "language": "python",
   "name": "python3"
  },
  "language_info": {
   "codemirror_mode": {
    "name": "ipython",
    "version": 3
   },
   "file_extension": ".py",
   "mimetype": "text/x-python",
   "name": "python",
   "nbconvert_exporter": "python",
   "pygments_lexer": "ipython3",
   "version": "3.10.8"
  }
 },
 "nbformat": 4,
 "nbformat_minor": 5
}
