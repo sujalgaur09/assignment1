{
 "cells": [
  {
   "cell_type": "code",
   "execution_count": null,
   "id": "53da121c-3afc-4c1e-9548-9f452ac7f88a",
   "metadata": {},
   "outputs": [],
   "source": []
  },
  {
   "cell_type": "code",
   "execution_count": 1,
   "id": "33265f25-c790-42c5-ab91-0319a09512a5",
   "metadata": {},
   "outputs": [
    {
     "name": "stdin",
     "output_type": "stream",
     "text": [
      "enter your marks 8\n"
     ]
    },
    {
     "name": "stdout",
     "output_type": "stream",
     "text": [
      "grades = D\n"
     ]
    }
   ],
   "source": [
    "##answer 1\n",
    "marks = int(input(\"enter your marks\"))\n",
    "if marks > 90:\n",
    "    print (\"grades =A\")\n",
    "elif marks > 80 and marks <= 90:\n",
    "    print (\"grades = B\")\n",
    "elif marks >= 60 and marks <= 80:\n",
    "    print (\"grades = C\")\n",
    "elif marks < 60:\n",
    "    print (\"grades = D\")"
   ]
  },
  {
   "cell_type": "code",
   "execution_count": null,
   "id": "0855fb39-a929-4ac5-807f-00738103bbe6",
   "metadata": {},
   "outputs": [],
   "source": []
  },
  {
   "cell_type": "code",
   "execution_count": 2,
   "id": "f0306379-394a-49e1-9557-f446cc407e8d",
   "metadata": {},
   "outputs": [
    {
     "name": "stdin",
     "output_type": "stream",
     "text": [
      "enter cost price of bike 5000000\n"
     ]
    },
    {
     "name": "stdout",
     "output_type": "stream",
     "text": [
      "Tax = 15%\n"
     ]
    }
   ],
   "source": [
    "#answer2\n",
    "cost = int (input(\"enter cost price of bike\"))\n",
    "if cost > 100000:\n",
    "    print (\"Tax = 15%\")\n",
    "elif cost > 50000 and cost <= 100000:\n",
    "    print (\"Tax = 10%\")\n",
    "elif cost <= 50000:\n",
    "    print ( \"Tax = 5%\")"
   ]
  },
  {
   "cell_type": "code",
   "execution_count": 6,
   "id": "db1b5cb6-0297-4348-bd69-29d3c39df236",
   "metadata": {},
   "outputs": [
    {
     "name": "stdin",
     "output_type": "stream",
     "text": [
      "enter name of the city Delhi\n"
     ]
    },
    {
     "name": "stdout",
     "output_type": "stream",
     "text": [
      "Monument = Red fort\n"
     ]
    }
   ],
   "source": [
    "#answer3\n",
    "city = input(\"enter name of the city\")\n",
    "if city == \"Delhi\":\n",
    "    print (\"Monument = Red fort\")\n",
    "elif city == \"Agra\":\n",
    "    print (\"Monument =Taj Mahal\")\n",
    "elif city == \"Jaipur\" :\n",
    "    print (\"Monument = Jal Mahal\")\n",
    "    \n",
    "    "
   ]
  },
  {
   "cell_type": "code",
   "execution_count": 24,
   "id": "f711a34f-e966-4a5e-b7b9-6542b2a76bcd",
   "metadata": {},
   "outputs": [
    {
     "name": "stdout",
     "output_type": "stream",
     "text": [
      "1\n",
      "2\n",
      "3\n"
     ]
    }
   ],
   "source": [
    "##answer4 \n",
    "a = 3\n",
    "i = 1\n",
    "counter = 0\n",
    "while i <= 10:\n",
    "    if i%a == 0 : \n",
    "        counter  = counter + 1\n",
    "        print ( counter )\n",
    "    \n",
    "    i = i + 1"
   ]
  },
  {
   "cell_type": "code",
   "execution_count": 28,
   "id": "09598142-1a29-4896-bd0d-6cd3d6469ca3",
   "metadata": {},
   "outputs": [
    {
     "name": "stdout",
     "output_type": "stream",
     "text": [
      "while loop is used to run a block code until a certain condition is met. Here, A while loop evaluates the condition. If the condition evaluates to True , the code inside the while loop is executed.\n"
     ]
    }
   ],
   "source": [
    "##answer5\n",
    "print(\"\"\"while loop is used to run a block code until a certain condition is met. Here, A while loop evaluates the condition. If the condition evaluates to True , the code inside the while loop is executed.\"\"\")"
   ]
  },
  {
   "cell_type": "code",
   "execution_count": 27,
   "id": "55e4bc3c-4462-4ae7-8cca-bf436a6c4b16",
   "metadata": {},
   "outputs": [
    {
     "name": "stdout",
     "output_type": "stream",
     "text": [
      "1\n",
      "2\n",
      "3\n",
      "4\n",
      "5\n"
     ]
    }
   ],
   "source": [
    "##answer5\n",
    "#Example\n",
    "#Print i as long as i is less than 6:\n",
    "\n",
    "i = 1\n",
    "while i < 6:\n",
    "  print(i)\n",
    "  i += 1"
   ]
  },
  {
   "cell_type": "code",
   "execution_count": null,
   "id": "2c827b7e-a7d1-4a9d-97f0-6d256e39afd6",
   "metadata": {},
   "outputs": [],
   "source": [
    "##answer 6\n",
    "i = 1\n",
    "while i <= 3:\n",
    "    j=1\n",
    "    while j <= i:\n",
    "        print(\"*\" , end=\"\")\n",
    "        j=j+1\n",
    "    print (\" \")\n",
    "    i=i+1\n",
    "        "
   ]
  },
  {
   "cell_type": "code",
   "execution_count": null,
   "id": "ce1359c3-3a92-4e39-ae65-1f0da1ede61f",
   "metadata": {},
   "outputs": [],
   "source": [
    "##answer7\n",
    "##reverse while loop\n",
    "i = 1\n",
    "while i<= 10 :\n",
    "    \n",
    "    i = i -1\n",
    "print (i)"
   ]
  },
  {
   "cell_type": "code",
   "execution_count": null,
   "id": "a81aa2d0-a165-432a-9967-d2aff6a68a3a",
   "metadata": {},
   "outputs": [],
   "source": []
  }
 ],
 "metadata": {
  "kernelspec": {
   "display_name": "Python 3 (ipykernel)",
   "language": "python",
   "name": "python3"
  },
  "language_info": {
   "codemirror_mode": {
    "name": "ipython",
    "version": 3
   },
   "file_extension": ".py",
   "mimetype": "text/x-python",
   "name": "python",
   "nbconvert_exporter": "python",
   "pygments_lexer": "ipython3",
   "version": "3.10.8"
  }
 },
 "nbformat": 4,
 "nbformat_minor": 5
}
